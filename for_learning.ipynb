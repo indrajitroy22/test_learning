n=15
s=0
while n>0:
  s+=(n%10)

  n=int(n/10)
print("SUM IS ",s)
