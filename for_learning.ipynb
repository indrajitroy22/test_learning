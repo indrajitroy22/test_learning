{
 "cells": [
  {
   "cell_type": "code",
   "execution_count": 1,
   "id": "455ddc66",
   "metadata": {},
   "outputs": [
    {
     "name": "stdout",
     "output_type": "stream",
     "text": [
      "THis is a test notebook\n"
     ]
    }
   ],
   "source": [
    "print(\"THis is a test notebook\")"
   ]
  },
  {
   "cell_type": "code",
   "execution_count": 2,
   "id": "c5d6e07b",
   "metadata": {},
   "outputs": [
    {
     "name": "stdout",
     "output_type": "stream",
     "text": [
      "SUM IS  6\n"
     ]
    }
   ],
   "source": [
    "n=15\n",
    "s=0\n",
    "while n>0:\n",
    "    s=s+(n%10)\n",
    "    n=int(n/10)\n",
    "print(\"SUM IS \",s)"
   ]
  }
 ],
 "metadata": {
  "kernelspec": {
   "display_name": "Python 3 (ipykernel)",
   "language": "python",
   "name": "python3"
  },
  "language_info": {
   "codemirror_mode": {
    "name": "ipython",
    "version": 3
   },
   "file_extension": ".py",
   "mimetype": "text/x-python",
   "name": "python",
   "nbconvert_exporter": "python",
   "pygments_lexer": "ipython3",
   "version": "3.10.11"
  }
 },
 "nbformat": 4,
 "nbformat_minor": 5
}
